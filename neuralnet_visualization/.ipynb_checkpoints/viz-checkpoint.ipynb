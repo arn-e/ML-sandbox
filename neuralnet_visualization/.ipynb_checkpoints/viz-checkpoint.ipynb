{
 "cells": [
  {
   "cell_type": "code",
   "execution_count": 1,
   "id": "71d15dca",
   "metadata": {},
   "outputs": [
    {
     "name": "stderr",
     "output_type": "stream",
     "text": [
      "2023-04-10 15:33:32.191924: I tensorflow/tsl/cuda/cudart_stub.cc:28] Could not find cuda drivers on your machine, GPU will not be used.\n",
      "2023-04-10 15:33:32.225856: I tensorflow/tsl/cuda/cudart_stub.cc:28] Could not find cuda drivers on your machine, GPU will not be used.\n",
      "2023-04-10 15:33:32.226398: I tensorflow/core/platform/cpu_feature_guard.cc:182] This TensorFlow binary is optimized to use available CPU instructions in performance-critical operations.\n",
      "To enable the following instructions: AVX2 FMA, in other operations, rebuild TensorFlow with the appropriate compiler flags.\n",
      "2023-04-10 15:33:32.909061: W tensorflow/compiler/tf2tensorrt/utils/py_utils.cc:38] TF-TRT Warning: Could not find TensorRT\n"
     ]
    }
   ],
   "source": [
    "import tensorflow as tf"
   ]
  },
  {
   "cell_type": "code",
   "execution_count": null,
   "id": "f7f238d9",
   "metadata": {},
   "outputs": [],
   "source": [
    "from keras import layers\n",
    "from keras import models"
   ]
  },
  {
   "cell_type": "code",
   "execution_count": null,
   "id": "e951c2ae",
   "metadata": {},
   "outputs": [],
   "source": [
    "#Download dataset\n",
    "dataset = tf.keras.datasets.boston_housing"
   ]
  },
  {
   "cell_type": "code",
   "execution_count": null,
   "id": "4e3e624b",
   "metadata": {},
   "outputs": [],
   "source": [
    "# Test train split\n",
    "(x_train, y_train), (x_test, y_test) = dataset.load_data()"
   ]
  },
  {
   "cell_type": "code",
   "execution_count": null,
   "id": "bd920868",
   "metadata": {},
   "outputs": [],
   "source": [
    "# Normalize data using training data\n",
    "train_data = x_train\n",
    "mean = train_data.mean(axis=0)\n",
    "train_data -= mean\n",
    "std = train_data.std(axis=0)\n",
    "train_data /= std"
   ]
  },
  {
   "cell_type": "code",
   "execution_count": null,
   "id": "bae38726",
   "metadata": {
    "lines_to_next_cell": 1
   },
   "outputs": [],
   "source": [
    "test_data = x_test\n",
    "test_data -= mean\n",
    "test_data /= std"
   ]
  },
  {
   "cell_type": "code",
   "execution_count": null,
   "id": "537ca1d1",
   "metadata": {},
   "outputs": [],
   "source": [
    "def build_model():\n",
    "\tmodel = models.Sequential()\n",
    "\tmodel.add(layers.Dense(64, activation='relu', input_shape=(x_train.shape[1],)))\n",
    "\tmodel.add(layers.Dense(64, activation='relu'))\n",
    "\tmodel.add(layers.Dense(1))\n",
    "\tmodel.compile(optimizer='rmsprop', loss='mse', metrics=['mae'])\n",
    "\n",
    "\treturn model"
   ]
  },
  {
   "cell_type": "code",
   "execution_count": null,
   "id": "b093bcf4",
   "metadata": {},
   "outputs": [],
   "source": [
    "num_epochs = 18\n",
    "model = build_model()"
   ]
  },
  {
   "cell_type": "code",
   "execution_count": null,
   "id": "7d8a3de9",
   "metadata": {},
   "outputs": [],
   "source": [
    "model_history = model.fit(x_train, y_train, epochs=num_epochs, batch_size=16, verbose=0)\n",
    "test_mse_score, test_mae_score = model.evaluate(x_test, y_test)"
   ]
  },
  {
   "cell_type": "code",
   "execution_count": null,
   "id": "dc9990ab",
   "metadata": {},
   "outputs": [],
   "source": [
    "print(test_mae_score) "
   ]
  },
  {
   "cell_type": "code",
   "execution_count": null,
   "id": "612385ba",
   "metadata": {},
   "outputs": [],
   "source": [
    "import hiplot as hip"
   ]
  },
  {
   "cell_type": "code",
   "execution_count": null,
   "id": "1451d8c3",
   "metadata": {},
   "outputs": [],
   "source": [
    "data = [{'epoch': idx,\n",
    "         'loss': model_history.history['loss'][idx], \n",
    "         'mae': model_history.history['mae'][idx]}\n",
    "       for idx in range(num_epochs)]\n",
    "hip.Experiment.from_iterable(data).display()"
   ]
  }
 ],
 "metadata": {
  "jupytext": {
   "cell_metadata_filter": "-all",
   "main_language": "python",
   "notebook_metadata_filter": "-all"
  },
  "kernelspec": {
   "display_name": "Python 3 (ipykernel)",
   "language": "python",
   "name": "python3"
  },
  "language_info": {
   "codemirror_mode": {
    "name": "ipython",
    "version": 3
   },
   "file_extension": ".py",
   "mimetype": "text/x-python",
   "name": "python",
   "nbconvert_exporter": "python",
   "pygments_lexer": "ipython3",
   "version": "3.10.6"
  }
 },
 "nbformat": 4,
 "nbformat_minor": 5
}
